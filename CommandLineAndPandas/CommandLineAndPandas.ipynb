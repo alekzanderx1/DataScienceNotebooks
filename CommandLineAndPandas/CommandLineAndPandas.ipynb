{
  "cells": [
    {
      "cell_type": "markdown",
      "metadata": {
        "id": "1IWG66EBbLve"
      },
      "source": [
        "Student Name: Syed Ahmad"
      ]
    },
    {
      "cell_type": "markdown",
      "metadata": {
        "id": "SuO-o33fbLva"
      },
      "source": [
        "# **Foundations of Data Science Fall 2022 - Homework 0 (30 points)**\n",
        "\n",
        "---\n",
        "\n"
      ]
    },
    {
      "cell_type": "markdown",
      "source": [
        "### **Part 1: Pre-class survey (5 Points)**\n",
        "\n",
        "---\n",
        "\n",
        "\n",
        "- Fill in [this survey] which will help our course team understand student backgrounds and interests.\n"
      ],
      "metadata": {
        "id": "embhI1ZNj0OX"
      }
    },
    {
      "cell_type": "markdown",
      "metadata": {
        "id": "zNDZ8BY8bLvf"
      },
      "source": [
        "### **Part 2: Case study (5 Points)**\n",
        "\n",
        "---\n",
        "\n",
        "\n",
        "- Read [this article](https://drive.google.com/file/d/1zRxm8WrOtdeT1pQKgKcjzd3J1x8GLTtb/view?usp=sharing) in the New York Times.\n",
        "- Use what we've learned in class and from the book to describe how one could set Target's problem up as a predictive modeling problem, such that they could have gotten the results that they did.  Formulate your solution as a proposed plan using our data science terminology.  Include aspects of the Data Science Workflow that you see as relevant to solving the problem.  Be precise but concise."
      ]
    },
    {
      "cell_type": "markdown",
      "metadata": {
        "id": "CCIl5aB6bLvf"
      },
      "source": [
        "\n",
        "Place your answer here!"
      ]
    },
    {
      "cell_type": "markdown",
      "source": [
        "**Part 2 Response**\n",
        "\n",
        "The following steps may have been involved to solve Target's problem:\n",
        "\n",
        "1. Setting up the problem - Target already has a Marketting Analytics Department which is reponsible for analysing users buying habits and presenting them with relevent advertisements. In this case, the goal is to create a prediction model to find out if a woman shopper is pregnant and how many months before they delivery the baby so that they can present them with relevent advertisements at the correct time.\n",
        "\n",
        "\n",
        "2. Data Sourcing - The initial data to analyse and train the model comes from targets \"baby shower registry\". This will provide the data on what products these women purchased and what their shopping habits are. Target may also purchase external data like socio-economical, financial and ethnicity data from outside sources to enrich the traning data. The feasibility of what can and cannot be used may be checked as part of EDA (Exploratory data analysis) step before we start moving the data into next steps.\n",
        "\n",
        "\n",
        "3. ETL - This involves Joining, Cleaning and Transforming the data. \n",
        "First step is to join the external and internal data through means of Primary Keys, which may be the Customer ID or email. Then the data needs to be imputed and standardized into a unified model which can be used for model training. These steps can be setup as an ETL pipeline with different steps.\n",
        "\n",
        "\n",
        "4. Model Training - Next step is analyse and select best features for Model Traning. After which, Target can train various Classification and Regression models which can predict is a user is pregnant or not based on the feature values such as items bought, frequency and time of purchase, etc. \n",
        "\n",
        "\n",
        "5. Scoring and Validation - The model can be validated using techniques like k-Fold Validation. Afterwards, using the models obtained in the last steps, target can run precictions on existing users which are not part of \"baby shower registry\" and check the validity of results.\n"
      ],
      "metadata": {
        "id": "ZHWrwhwakKLa"
      }
    },
    {
      "cell_type": "markdown",
      "metadata": {
        "id": "zre_pTeabLvg"
      },
      "source": [
        "### **Part 3: Exploring data in the command line (4 Points - 1 Point Each)**\n",
        "\n",
        "---\n",
        "\n",
        "\n",
        "\n",
        "\n",
        "*   For this part we will be using the data file `\"loansData.csv\"`. This file \n",
        "consists of records that pertain to some loan records in a local bank. There are 15 comma separated columns in this order: \n",
        ">> `CustNUm`, `Amount.Requested`,\t`Amount.Funded.By.Investors`,\t`Interest.Rate`,\t`Loan.Length`,\t`Loan.Purpose`,\t`Debt.To.Income.Ratio`,\t`State`,\t`Home.Ownership`,\t`Monthly.Income`,\t`FICO.Range`,\t`Open.CREDIT.Lines`,\t`Revolving.CREDIT.Balance`,\t`Inquiries.in.the.Last.6.Months`, and\t`Employment.Length`. \n",
        "*   These fields contain data of type `int`, `float`, and `string`, and you can also locate a file `\"data/loansData_columns.csv\"`in the data folder containing all the column names for easy reference.  Answer the following questions using Linux/Unix bash commands. All questions can be answered in one line (sometimes, with pipes)! Some questions will have many possible solutions. Don't forget that in iPython notebooks you must prefix all bash commands with an exclamation point, i.e. `\"!command arguments\"`.\n"
      ]
    },
    {
      "cell_type": "markdown",
      "metadata": {
        "id": "wPgt-hhAbLvg"
      },
      "source": [
        ">>**1**\\. *How many records (lines) are in this file?*\n",
        "\n",
        "\n"
      ]
    },
    {
      "cell_type": "code",
      "execution_count": null,
      "metadata": {
        "id": "uMqN-CkUbLvh",
        "colab": {
          "base_uri": "https://localhost:8080/"
        },
        "outputId": "112bb5a3-171d-46e6-f22f-2b1ce4bd1fb3"
      },
      "outputs": [
        {
          "output_type": "stream",
          "name": "stdout",
          "text": [
            "2501 data/loansData.csv\n"
          ]
        }
      ],
      "source": [
        "# Place your code here\n",
        "!wc -l data/loansData.csv"
      ]
    },
    {
      "cell_type": "markdown",
      "metadata": {
        "id": "j_pjxcQ8bLvi"
      },
      "source": [
        ">>**2**\\. *How many unique `State` (the 8th field) are in this file? (hint: consider the 'cut' command and use pipe operator '|')*\n",
        "\n"
      ]
    },
    {
      "cell_type": "code",
      "execution_count": null,
      "metadata": {
        "id": "WEs1ehJhbLvj",
        "colab": {
          "base_uri": "https://localhost:8080/"
        },
        "outputId": "763c7f9f-78a3-4686-c1ac-46785b62932b"
      },
      "outputs": [
        {
          "output_type": "stream",
          "name": "stdout",
          "text": [
            "46\n"
          ]
        }
      ],
      "source": [
        "# Place your code here\n",
        "# using tail to ignore first line which contains header information\n",
        "!tail -n+2 data/loansData.csv | cut -d \",\" -f 8 | sort | uniq | wc -l"
      ]
    },
    {
      "cell_type": "markdown",
      "metadata": {
        "id": "pJn3HfcKbLvj"
      },
      "source": [
        ">>**3**\\. *Rank all domains by the number of `Loan.Purpose` (the 6th field) they requested in descending order. (hint: consider the 'cut', 'uniq' and 'sort' commands and the pipe operator).*\n",
        "\n"
      ]
    },
    {
      "cell_type": "code",
      "execution_count": null,
      "metadata": {
        "id": "8XA3nApCbLvk",
        "colab": {
          "base_uri": "https://localhost:8080/"
        },
        "outputId": "85ffe8a7-6ac3-4f19-df28-594936af9d78"
      },
      "outputs": [
        {
          "output_type": "stream",
          "name": "stdout",
          "text": [
            "   1307 \"debt_consolidation\"\n",
            "    444 \"credit_card\"\n",
            "    201 \"other\"\n",
            "    152 \"home_improvement\"\n",
            "    101 \"major_purchase\"\n",
            "     87 \"small_business\"\n",
            "     50 \"car\"\n",
            "     39 \"wedding\"\n",
            "     30 \"medical\"\n",
            "     29 \"moving\"\n",
            "     21 \"vacation\"\n",
            "     20 \"house\"\n",
            "     15 \"educational\"\n",
            "      4 \"renewable_energy\"\n"
          ]
        }
      ],
      "source": [
        "# Place your code here\n",
        "!tail -n+2 data/loansData.csv| cut -d \",\" -f 6 | sort | uniq -c | sort -nr"
      ]
    },
    {
      "cell_type": "markdown",
      "metadata": {
        "id": "vthOuqzRbLvk"
      },
      "source": [
        ">>**4**\\. *List all records which have `FICO.Range` (the 11th field) from 815-819. (hint: this can be done using 'grep')*\n",
        "\n",
        "\n"
      ]
    },
    {
      "cell_type": "code",
      "execution_count": null,
      "metadata": {
        "id": "uCQ0dD1XbLvl",
        "colab": {
          "base_uri": "https://localhost:8080/"
        },
        "outputId": "19ba251a-1c05-42d9-9990-ec6978346af5"
      },
      "outputs": [
        {
          "output_type": "stream",
          "name": "stdout",
          "text": [
            "\"64884\",9000,9000,\"6.03%\",\"36 months\",\"vacation\",\"5.58%\",\"NJ\",\"MORTGAGE\",9583.33,\"815-819\",11,675,0,\"n/a\"\n",
            "\"55501\",8000,8000,\"6.03%\",\"36 months\",\"debt_consolidation\",\"4.51%\",\"OR\",\"MORTGAGE\",3500,\"815-819\",9,6737,0,\"10+ years\"\n",
            "\"93374\",16500,16500,\"6.03%\",\"36 months\",\"debt_consolidation\",\"22.65%\",\"CA\",\"MORTGAGE\",5416.67,\"815-819\",17,14835,0,\"10+ years\"\n",
            "\"90568\",4800,4800,\"6.62%\",\"36 months\",\"car\",\"10.42%\",\"TX\",\"MORTGAGE\",7291.67,\"815-819\",14,0,0,\"< 1 year\"\n",
            "\"80302\",16800,16800,\"7.90%\",\"60 months\",\"debt_consolidation\",\"3.34%\",\"FL\",\"MORTGAGE\",10666.67,\"815-819\",7,4757,0,\"10+ years\"\n",
            "\"5906\",12800,12787.71,\"8.94%\",\"36 months\",\"debt_consolidation\",\"0.18%\",\"AZ\",\"MORTGAGE\",2833.33,\"815-819\",7,306,0,\"4 years\"\n"
          ]
        }
      ],
      "source": [
        "# Place your code here\n",
        "!grep -w \"815-819\" data/loansData.csv "
      ]
    },
    {
      "cell_type": "markdown",
      "metadata": {
        "id": "QXUZ_U1NbLvl"
      },
      "source": [
        "### **Part 4: Dealing with data Pythonically (16 Points)**\n",
        "\n",
        "---\n",
        "\n"
      ]
    },
    {
      "cell_type": "code",
      "execution_count": null,
      "metadata": {
        "id": "SfQY_MJ2bLvl"
      },
      "outputs": [],
      "source": [
        "# You might find these packages useful. You may import any others you want!\n",
        "import pandas as pd\n",
        "import numpy as np\n",
        "import matplotlib.pyplot as plt\n",
        "%matplotlib inline\n",
        "import timeit"
      ]
    },
    {
      "cell_type": "markdown",
      "metadata": {
        "id": "KpbpUMXsbLvm"
      },
      "source": [
        ">>**1**\\. **(1 Point)** *Load the data set `\"data/ads_dataset.tsv\"` and load it into a Python Pandas data frame called `ads`.*\n",
        "\n",
        "\n"
      ]
    },
    {
      "cell_type": "code",
      "execution_count": null,
      "metadata": {
        "id": "bND3bVmnbLvm",
        "colab": {
          "base_uri": "https://localhost:8080/",
          "height": 270
        },
        "outputId": "6b77178b-f759-44bc-8370-1c74e76f026c"
      },
      "outputs": [
        {
          "output_type": "execute_result",
          "data": {
            "text/plain": [
              "   is_video_user  video_freq  call_freq  video_interval  call_interval  \\\n",
              "0              0         NaN          1               0            0.0   \n",
              "1              0         NaN          1               0            0.0   \n",
              "2              0         NaN          1               0            0.0   \n",
              "3              0         NaN          1               0            0.0   \n",
              "4              0         NaN          2               0            0.5   \n",
              "\n",
              "   expected_video_time  expected_call_time  last_bill  next_bill  \\\n",
              "0                    0              0.0000        106        106   \n",
              "1                    0              0.0000         72         72   \n",
              "2                    0              0.0000          5          5   \n",
              "3                    0              0.0000          6          6   \n",
              "4                    0           -101.1493        101        101   \n",
              "\n",
              "   multiple_video  multiple_carrier  uniq_urls  num_texts  is_churn  \n",
              "0               0                 0        169       2130         0  \n",
              "1               0                 0        154       1100         0  \n",
              "2               0                 0          4         12         0  \n",
              "3               0                 0        150        539         0  \n",
              "4               0                 1        103        362         0  "
            ],
            "text/html": [
              "\n",
              "  <div id=\"df-4eed2688-dcbf-4a04-ad65-da4a9e12d0a4\">\n",
              "    <div class=\"colab-df-container\">\n",
              "      <div>\n",
              "<style scoped>\n",
              "    .dataframe tbody tr th:only-of-type {\n",
              "        vertical-align: middle;\n",
              "    }\n",
              "\n",
              "    .dataframe tbody tr th {\n",
              "        vertical-align: top;\n",
              "    }\n",
              "\n",
              "    .dataframe thead th {\n",
              "        text-align: right;\n",
              "    }\n",
              "</style>\n",
              "<table border=\"1\" class=\"dataframe\">\n",
              "  <thead>\n",
              "    <tr style=\"text-align: right;\">\n",
              "      <th></th>\n",
              "      <th>is_video_user</th>\n",
              "      <th>video_freq</th>\n",
              "      <th>call_freq</th>\n",
              "      <th>video_interval</th>\n",
              "      <th>call_interval</th>\n",
              "      <th>expected_video_time</th>\n",
              "      <th>expected_call_time</th>\n",
              "      <th>last_bill</th>\n",
              "      <th>next_bill</th>\n",
              "      <th>multiple_video</th>\n",
              "      <th>multiple_carrier</th>\n",
              "      <th>uniq_urls</th>\n",
              "      <th>num_texts</th>\n",
              "      <th>is_churn</th>\n",
              "    </tr>\n",
              "  </thead>\n",
              "  <tbody>\n",
              "    <tr>\n",
              "      <th>0</th>\n",
              "      <td>0</td>\n",
              "      <td>NaN</td>\n",
              "      <td>1</td>\n",
              "      <td>0</td>\n",
              "      <td>0.0</td>\n",
              "      <td>0</td>\n",
              "      <td>0.0000</td>\n",
              "      <td>106</td>\n",
              "      <td>106</td>\n",
              "      <td>0</td>\n",
              "      <td>0</td>\n",
              "      <td>169</td>\n",
              "      <td>2130</td>\n",
              "      <td>0</td>\n",
              "    </tr>\n",
              "    <tr>\n",
              "      <th>1</th>\n",
              "      <td>0</td>\n",
              "      <td>NaN</td>\n",
              "      <td>1</td>\n",
              "      <td>0</td>\n",
              "      <td>0.0</td>\n",
              "      <td>0</td>\n",
              "      <td>0.0000</td>\n",
              "      <td>72</td>\n",
              "      <td>72</td>\n",
              "      <td>0</td>\n",
              "      <td>0</td>\n",
              "      <td>154</td>\n",
              "      <td>1100</td>\n",
              "      <td>0</td>\n",
              "    </tr>\n",
              "    <tr>\n",
              "      <th>2</th>\n",
              "      <td>0</td>\n",
              "      <td>NaN</td>\n",
              "      <td>1</td>\n",
              "      <td>0</td>\n",
              "      <td>0.0</td>\n",
              "      <td>0</td>\n",
              "      <td>0.0000</td>\n",
              "      <td>5</td>\n",
              "      <td>5</td>\n",
              "      <td>0</td>\n",
              "      <td>0</td>\n",
              "      <td>4</td>\n",
              "      <td>12</td>\n",
              "      <td>0</td>\n",
              "    </tr>\n",
              "    <tr>\n",
              "      <th>3</th>\n",
              "      <td>0</td>\n",
              "      <td>NaN</td>\n",
              "      <td>1</td>\n",
              "      <td>0</td>\n",
              "      <td>0.0</td>\n",
              "      <td>0</td>\n",
              "      <td>0.0000</td>\n",
              "      <td>6</td>\n",
              "      <td>6</td>\n",
              "      <td>0</td>\n",
              "      <td>0</td>\n",
              "      <td>150</td>\n",
              "      <td>539</td>\n",
              "      <td>0</td>\n",
              "    </tr>\n",
              "    <tr>\n",
              "      <th>4</th>\n",
              "      <td>0</td>\n",
              "      <td>NaN</td>\n",
              "      <td>2</td>\n",
              "      <td>0</td>\n",
              "      <td>0.5</td>\n",
              "      <td>0</td>\n",
              "      <td>-101.1493</td>\n",
              "      <td>101</td>\n",
              "      <td>101</td>\n",
              "      <td>0</td>\n",
              "      <td>1</td>\n",
              "      <td>103</td>\n",
              "      <td>362</td>\n",
              "      <td>0</td>\n",
              "    </tr>\n",
              "  </tbody>\n",
              "</table>\n",
              "</div>\n",
              "      <button class=\"colab-df-convert\" onclick=\"convertToInteractive('df-4eed2688-dcbf-4a04-ad65-da4a9e12d0a4')\"\n",
              "              title=\"Convert this dataframe to an interactive table.\"\n",
              "              style=\"display:none;\">\n",
              "        \n",
              "  <svg xmlns=\"http://www.w3.org/2000/svg\" height=\"24px\"viewBox=\"0 0 24 24\"\n",
              "       width=\"24px\">\n",
              "    <path d=\"M0 0h24v24H0V0z\" fill=\"none\"/>\n",
              "    <path d=\"M18.56 5.44l.94 2.06.94-2.06 2.06-.94-2.06-.94-.94-2.06-.94 2.06-2.06.94zm-11 1L8.5 8.5l.94-2.06 2.06-.94-2.06-.94L8.5 2.5l-.94 2.06-2.06.94zm10 10l.94 2.06.94-2.06 2.06-.94-2.06-.94-.94-2.06-.94 2.06-2.06.94z\"/><path d=\"M17.41 7.96l-1.37-1.37c-.4-.4-.92-.59-1.43-.59-.52 0-1.04.2-1.43.59L10.3 9.45l-7.72 7.72c-.78.78-.78 2.05 0 2.83L4 21.41c.39.39.9.59 1.41.59.51 0 1.02-.2 1.41-.59l7.78-7.78 2.81-2.81c.8-.78.8-2.07 0-2.86zM5.41 20L4 18.59l7.72-7.72 1.47 1.35L5.41 20z\"/>\n",
              "  </svg>\n",
              "      </button>\n",
              "      \n",
              "  <style>\n",
              "    .colab-df-container {\n",
              "      display:flex;\n",
              "      flex-wrap:wrap;\n",
              "      gap: 12px;\n",
              "    }\n",
              "\n",
              "    .colab-df-convert {\n",
              "      background-color: #E8F0FE;\n",
              "      border: none;\n",
              "      border-radius: 50%;\n",
              "      cursor: pointer;\n",
              "      display: none;\n",
              "      fill: #1967D2;\n",
              "      height: 32px;\n",
              "      padding: 0 0 0 0;\n",
              "      width: 32px;\n",
              "    }\n",
              "\n",
              "    .colab-df-convert:hover {\n",
              "      background-color: #E2EBFA;\n",
              "      box-shadow: 0px 1px 2px rgba(60, 64, 67, 0.3), 0px 1px 3px 1px rgba(60, 64, 67, 0.15);\n",
              "      fill: #174EA6;\n",
              "    }\n",
              "\n",
              "    [theme=dark] .colab-df-convert {\n",
              "      background-color: #3B4455;\n",
              "      fill: #D2E3FC;\n",
              "    }\n",
              "\n",
              "    [theme=dark] .colab-df-convert:hover {\n",
              "      background-color: #434B5C;\n",
              "      box-shadow: 0px 1px 3px 1px rgba(0, 0, 0, 0.15);\n",
              "      filter: drop-shadow(0px 1px 2px rgba(0, 0, 0, 0.3));\n",
              "      fill: #FFFFFF;\n",
              "    }\n",
              "  </style>\n",
              "\n",
              "      <script>\n",
              "        const buttonEl =\n",
              "          document.querySelector('#df-4eed2688-dcbf-4a04-ad65-da4a9e12d0a4 button.colab-df-convert');\n",
              "        buttonEl.style.display =\n",
              "          google.colab.kernel.accessAllowed ? 'block' : 'none';\n",
              "\n",
              "        async function convertToInteractive(key) {\n",
              "          const element = document.querySelector('#df-4eed2688-dcbf-4a04-ad65-da4a9e12d0a4');\n",
              "          const dataTable =\n",
              "            await google.colab.kernel.invokeFunction('convertToInteractive',\n",
              "                                                     [key], {});\n",
              "          if (!dataTable) return;\n",
              "\n",
              "          const docLinkHtml = 'Like what you see? Visit the ' +\n",
              "            '<a target=\"_blank\" href=https://colab.research.google.com/notebooks/data_table.ipynb>data table notebook</a>'\n",
              "            + ' to learn more about interactive tables.';\n",
              "          element.innerHTML = '';\n",
              "          dataTable['output_type'] = 'display_data';\n",
              "          await google.colab.output.renderOutput(dataTable, element);\n",
              "          const docLink = document.createElement('div');\n",
              "          docLink.innerHTML = docLinkHtml;\n",
              "          element.appendChild(docLink);\n",
              "        }\n",
              "      </script>\n",
              "    </div>\n",
              "  </div>\n",
              "  "
            ]
          },
          "metadata": {},
          "execution_count": 6
        }
      ],
      "source": [
        "# Place your code here\n",
        "ads = pd.read_csv(\"data/new_ads_dataset.tsv\",sep='\\t', header=0)\n",
        "ads.head()"
      ]
    },
    {
      "cell_type": "markdown",
      "metadata": {
        "id": "wnd29b7YbLvm"
      },
      "source": [
        ">>**2**\\. **(4 Points)** *Write a Python function called `getDfSummary()` that does the following:*\n",
        "- *Takes as input a data frame*\n",
        "- *For each variable in the data frame calculates the following features:*\n",
        "  - *`number_nan` to count the number of missing not-a-number values*\n",
        "  - *Ignoring missing, NA, and Null values:*\n",
        "    - *`number_distinct` to count the number of distinct values a variable can take on*\n",
        "    - *`mean`, `max`, `min`, `std` (standard deviation), and `25%`, `50%`, `75%` to correspond to the appropriate percentiles*\n",
        "- *All of these new features should be loaded in a new data frame. Each row of the data frame should be a variable from the input data frame, and the columns should be the new summary features.*\n",
        "- Returns this new data frame containing all of the summary information\n",
        "*italicized text*\n",
        ">>**Hint:** *The pandas `describe()` [(manual page)](http://pandas.pydata.org/pandas-docs/stable/generated/pandas.DataFrame.describe.html) method returns a useful series of values that can be used here.*\n",
        "\n"
      ]
    },
    {
      "cell_type": "code",
      "execution_count": null,
      "metadata": {
        "id": "uzQUyVkkbLvn"
      },
      "outputs": [],
      "source": [
        "def getDfSummary(input_data):\n",
        "    columns = list(input_data.columns)\n",
        "\n",
        "    # store each feature of data columns in below lists\n",
        "    nanCounts   = []\n",
        "    numDistinct = []\n",
        "    meanValues  = []\n",
        "    maxValues   = []\n",
        "    minValues   = []\n",
        "    percent25   = []\n",
        "    percent50   = []\n",
        "    percent75   = []\n",
        "    stdValues   = []\n",
        "\n",
        "    # iterate through each column to calculate the feature values\n",
        "    for col in columns:      \n",
        "      colFiltered = input_data[input_data[col].notnull()][col]\n",
        "      describeCol = colFiltered.describe()\n",
        "\n",
        "      nanCounts.append(input_data[col].isna().sum())\n",
        "      numDistinct.append(len(colFiltered.unique()))\n",
        "      meanValues.append(describeCol['mean'])\n",
        "      maxValues.append(describeCol['max'])\n",
        "      minValues.append(describeCol['min'])\n",
        "      percent25.append(describeCol['25%'])\n",
        "      percent50.append(describeCol['50%'])\n",
        "      percent75.append(describeCol['75%'])\n",
        "      stdValues.append(describeCol['std'])\n",
        "\n",
        "    result = pd.DataFrame()\n",
        "    result['number_nan'] = nanCounts\n",
        "    result['number_distinct'] = numDistinct\n",
        "    result['mean'] = meanValues\n",
        "    result['max'] = maxValues\n",
        "    result['min'] = minValues\n",
        "    result['std'] = stdValues\n",
        "    result['25%'] = percent25\n",
        "    result['50%'] = percent50\n",
        "    result['75%'] = percent75\n",
        "    result.index = columns\n",
        "\n",
        "    return result"
      ]
    },
    {
      "cell_type": "markdown",
      "metadata": {
        "id": "ZqO-X3xBbLvn"
      },
      "source": [
        ">>**3**\\. **(1 Point)** *How long does it take for your `getDfSummary()` function to work on your `ads` data frame? Show us the results below.*\n",
        "\n",
        ">>**Hint:** *`%timeit getDfSummary(ads)`*\n",
        "\n"
      ]
    },
    {
      "cell_type": "code",
      "execution_count": null,
      "metadata": {
        "id": "S2RhhAwjbLvo",
        "colab": {
          "base_uri": "https://localhost:8080/",
          "height": 540
        },
        "outputId": "ddfbc456-e30a-4add-8df4-ddb752085c77"
      },
      "outputs": [
        {
          "output_type": "stream",
          "name": "stdout",
          "text": [
            "Time taken for getDfSummary function to work on the ads data frame: \n",
            "\n",
            "106 ms ± 5.48 ms per loop (mean ± std. dev. of 7 runs, 10 loops each)\n"
          ]
        },
        {
          "output_type": "execute_result",
          "data": {
            "text/plain": [
              "                     number_nan  number_distinct        mean          max  \\\n",
              "is_video_user                 0                2    0.042632      1.00000   \n",
              "video_freq                52257               10    1.240653     15.00000   \n",
              "call_freq                     0               64    1.852777     84.00000   \n",
              "video_interval                0              121    2.570533    120.00000   \n",
              "call_interval                 0             5886    5.825610    184.91670   \n",
              "expected_video_time           0              134   -0.494174     55.00000   \n",
              "expected_call_time            0            15135  -10.210786     91.40192   \n",
              "last_bill                     0              189   64.729335    188.00000   \n",
              "next_bill                     0              189   64.729335    188.00000   \n",
              "multiple_video                0                2    0.021563      1.00000   \n",
              "multiple_carrier              0                2    0.277444      1.00000   \n",
              "uniq_urls                     0              207   86.569343    206.00000   \n",
              "num_texts                     0             4628  720.657592  37091.00000   \n",
              "is_churn                      0                2    0.004635      1.00000   \n",
              "\n",
              "                          min          std    25%    50%         75%  \n",
              "is_video_user          0.0000     0.202027    0.0    0.0    0.000000  \n",
              "video_freq             1.0000     0.782228    1.0    1.0    1.000000  \n",
              "call_freq              0.0000     2.921820    1.0    1.0    2.000000  \n",
              "video_interval         0.0000    14.162418    0.0    0.0    0.000000  \n",
              "call_interval          0.0000    17.595442    0.0    0.0    0.104167  \n",
              "expected_video_time  -78.0000     8.411089    0.0    0.0    0.000000  \n",
              "expected_call_time  -187.6156    31.879722    0.0    0.0    0.000000  \n",
              "last_bill              0.0000    53.476658   18.0   51.0  105.000000  \n",
              "next_bill              0.0000    53.476658   18.0   51.0  105.000000  \n",
              "multiple_video         0.0000     0.145253    0.0    0.0    0.000000  \n",
              "multiple_carrier       0.0000     0.447742    0.0    0.0    1.000000  \n",
              "uniq_urls             -1.0000    61.969765   30.0   75.0  155.000000  \n",
              "num_texts              1.0000  1275.727306  127.0  319.0  802.000000  \n",
              "is_churn               0.0000     0.067924    0.0    0.0    0.000000  "
            ],
            "text/html": [
              "\n",
              "  <div id=\"df-7b9e5ce8-e903-40c0-a3de-aef1af04804b\">\n",
              "    <div class=\"colab-df-container\">\n",
              "      <div>\n",
              "<style scoped>\n",
              "    .dataframe tbody tr th:only-of-type {\n",
              "        vertical-align: middle;\n",
              "    }\n",
              "\n",
              "    .dataframe tbody tr th {\n",
              "        vertical-align: top;\n",
              "    }\n",
              "\n",
              "    .dataframe thead th {\n",
              "        text-align: right;\n",
              "    }\n",
              "</style>\n",
              "<table border=\"1\" class=\"dataframe\">\n",
              "  <thead>\n",
              "    <tr style=\"text-align: right;\">\n",
              "      <th></th>\n",
              "      <th>number_nan</th>\n",
              "      <th>number_distinct</th>\n",
              "      <th>mean</th>\n",
              "      <th>max</th>\n",
              "      <th>min</th>\n",
              "      <th>std</th>\n",
              "      <th>25%</th>\n",
              "      <th>50%</th>\n",
              "      <th>75%</th>\n",
              "    </tr>\n",
              "  </thead>\n",
              "  <tbody>\n",
              "    <tr>\n",
              "      <th>is_video_user</th>\n",
              "      <td>0</td>\n",
              "      <td>2</td>\n",
              "      <td>0.042632</td>\n",
              "      <td>1.00000</td>\n",
              "      <td>0.0000</td>\n",
              "      <td>0.202027</td>\n",
              "      <td>0.0</td>\n",
              "      <td>0.0</td>\n",
              "      <td>0.000000</td>\n",
              "    </tr>\n",
              "    <tr>\n",
              "      <th>video_freq</th>\n",
              "      <td>52257</td>\n",
              "      <td>10</td>\n",
              "      <td>1.240653</td>\n",
              "      <td>15.00000</td>\n",
              "      <td>1.0000</td>\n",
              "      <td>0.782228</td>\n",
              "      <td>1.0</td>\n",
              "      <td>1.0</td>\n",
              "      <td>1.000000</td>\n",
              "    </tr>\n",
              "    <tr>\n",
              "      <th>call_freq</th>\n",
              "      <td>0</td>\n",
              "      <td>64</td>\n",
              "      <td>1.852777</td>\n",
              "      <td>84.00000</td>\n",
              "      <td>0.0000</td>\n",
              "      <td>2.921820</td>\n",
              "      <td>1.0</td>\n",
              "      <td>1.0</td>\n",
              "      <td>2.000000</td>\n",
              "    </tr>\n",
              "    <tr>\n",
              "      <th>video_interval</th>\n",
              "      <td>0</td>\n",
              "      <td>121</td>\n",
              "      <td>2.570533</td>\n",
              "      <td>120.00000</td>\n",
              "      <td>0.0000</td>\n",
              "      <td>14.162418</td>\n",
              "      <td>0.0</td>\n",
              "      <td>0.0</td>\n",
              "      <td>0.000000</td>\n",
              "    </tr>\n",
              "    <tr>\n",
              "      <th>call_interval</th>\n",
              "      <td>0</td>\n",
              "      <td>5886</td>\n",
              "      <td>5.825610</td>\n",
              "      <td>184.91670</td>\n",
              "      <td>0.0000</td>\n",
              "      <td>17.595442</td>\n",
              "      <td>0.0</td>\n",
              "      <td>0.0</td>\n",
              "      <td>0.104167</td>\n",
              "    </tr>\n",
              "    <tr>\n",
              "      <th>expected_video_time</th>\n",
              "      <td>0</td>\n",
              "      <td>134</td>\n",
              "      <td>-0.494174</td>\n",
              "      <td>55.00000</td>\n",
              "      <td>-78.0000</td>\n",
              "      <td>8.411089</td>\n",
              "      <td>0.0</td>\n",
              "      <td>0.0</td>\n",
              "      <td>0.000000</td>\n",
              "    </tr>\n",
              "    <tr>\n",
              "      <th>expected_call_time</th>\n",
              "      <td>0</td>\n",
              "      <td>15135</td>\n",
              "      <td>-10.210786</td>\n",
              "      <td>91.40192</td>\n",
              "      <td>-187.6156</td>\n",
              "      <td>31.879722</td>\n",
              "      <td>0.0</td>\n",
              "      <td>0.0</td>\n",
              "      <td>0.000000</td>\n",
              "    </tr>\n",
              "    <tr>\n",
              "      <th>last_bill</th>\n",
              "      <td>0</td>\n",
              "      <td>189</td>\n",
              "      <td>64.729335</td>\n",
              "      <td>188.00000</td>\n",
              "      <td>0.0000</td>\n",
              "      <td>53.476658</td>\n",
              "      <td>18.0</td>\n",
              "      <td>51.0</td>\n",
              "      <td>105.000000</td>\n",
              "    </tr>\n",
              "    <tr>\n",
              "      <th>next_bill</th>\n",
              "      <td>0</td>\n",
              "      <td>189</td>\n",
              "      <td>64.729335</td>\n",
              "      <td>188.00000</td>\n",
              "      <td>0.0000</td>\n",
              "      <td>53.476658</td>\n",
              "      <td>18.0</td>\n",
              "      <td>51.0</td>\n",
              "      <td>105.000000</td>\n",
              "    </tr>\n",
              "    <tr>\n",
              "      <th>multiple_video</th>\n",
              "      <td>0</td>\n",
              "      <td>2</td>\n",
              "      <td>0.021563</td>\n",
              "      <td>1.00000</td>\n",
              "      <td>0.0000</td>\n",
              "      <td>0.145253</td>\n",
              "      <td>0.0</td>\n",
              "      <td>0.0</td>\n",
              "      <td>0.000000</td>\n",
              "    </tr>\n",
              "    <tr>\n",
              "      <th>multiple_carrier</th>\n",
              "      <td>0</td>\n",
              "      <td>2</td>\n",
              "      <td>0.277444</td>\n",
              "      <td>1.00000</td>\n",
              "      <td>0.0000</td>\n",
              "      <td>0.447742</td>\n",
              "      <td>0.0</td>\n",
              "      <td>0.0</td>\n",
              "      <td>1.000000</td>\n",
              "    </tr>\n",
              "    <tr>\n",
              "      <th>uniq_urls</th>\n",
              "      <td>0</td>\n",
              "      <td>207</td>\n",
              "      <td>86.569343</td>\n",
              "      <td>206.00000</td>\n",
              "      <td>-1.0000</td>\n",
              "      <td>61.969765</td>\n",
              "      <td>30.0</td>\n",
              "      <td>75.0</td>\n",
              "      <td>155.000000</td>\n",
              "    </tr>\n",
              "    <tr>\n",
              "      <th>num_texts</th>\n",
              "      <td>0</td>\n",
              "      <td>4628</td>\n",
              "      <td>720.657592</td>\n",
              "      <td>37091.00000</td>\n",
              "      <td>1.0000</td>\n",
              "      <td>1275.727306</td>\n",
              "      <td>127.0</td>\n",
              "      <td>319.0</td>\n",
              "      <td>802.000000</td>\n",
              "    </tr>\n",
              "    <tr>\n",
              "      <th>is_churn</th>\n",
              "      <td>0</td>\n",
              "      <td>2</td>\n",
              "      <td>0.004635</td>\n",
              "      <td>1.00000</td>\n",
              "      <td>0.0000</td>\n",
              "      <td>0.067924</td>\n",
              "      <td>0.0</td>\n",
              "      <td>0.0</td>\n",
              "      <td>0.000000</td>\n",
              "    </tr>\n",
              "  </tbody>\n",
              "</table>\n",
              "</div>\n",
              "      <button class=\"colab-df-convert\" onclick=\"convertToInteractive('df-7b9e5ce8-e903-40c0-a3de-aef1af04804b')\"\n",
              "              title=\"Convert this dataframe to an interactive table.\"\n",
              "              style=\"display:none;\">\n",
              "        \n",
              "  <svg xmlns=\"http://www.w3.org/2000/svg\" height=\"24px\"viewBox=\"0 0 24 24\"\n",
              "       width=\"24px\">\n",
              "    <path d=\"M0 0h24v24H0V0z\" fill=\"none\"/>\n",
              "    <path d=\"M18.56 5.44l.94 2.06.94-2.06 2.06-.94-2.06-.94-.94-2.06-.94 2.06-2.06.94zm-11 1L8.5 8.5l.94-2.06 2.06-.94-2.06-.94L8.5 2.5l-.94 2.06-2.06.94zm10 10l.94 2.06.94-2.06 2.06-.94-2.06-.94-.94-2.06-.94 2.06-2.06.94z\"/><path d=\"M17.41 7.96l-1.37-1.37c-.4-.4-.92-.59-1.43-.59-.52 0-1.04.2-1.43.59L10.3 9.45l-7.72 7.72c-.78.78-.78 2.05 0 2.83L4 21.41c.39.39.9.59 1.41.59.51 0 1.02-.2 1.41-.59l7.78-7.78 2.81-2.81c.8-.78.8-2.07 0-2.86zM5.41 20L4 18.59l7.72-7.72 1.47 1.35L5.41 20z\"/>\n",
              "  </svg>\n",
              "      </button>\n",
              "      \n",
              "  <style>\n",
              "    .colab-df-container {\n",
              "      display:flex;\n",
              "      flex-wrap:wrap;\n",
              "      gap: 12px;\n",
              "    }\n",
              "\n",
              "    .colab-df-convert {\n",
              "      background-color: #E8F0FE;\n",
              "      border: none;\n",
              "      border-radius: 50%;\n",
              "      cursor: pointer;\n",
              "      display: none;\n",
              "      fill: #1967D2;\n",
              "      height: 32px;\n",
              "      padding: 0 0 0 0;\n",
              "      width: 32px;\n",
              "    }\n",
              "\n",
              "    .colab-df-convert:hover {\n",
              "      background-color: #E2EBFA;\n",
              "      box-shadow: 0px 1px 2px rgba(60, 64, 67, 0.3), 0px 1px 3px 1px rgba(60, 64, 67, 0.15);\n",
              "      fill: #174EA6;\n",
              "    }\n",
              "\n",
              "    [theme=dark] .colab-df-convert {\n",
              "      background-color: #3B4455;\n",
              "      fill: #D2E3FC;\n",
              "    }\n",
              "\n",
              "    [theme=dark] .colab-df-convert:hover {\n",
              "      background-color: #434B5C;\n",
              "      box-shadow: 0px 1px 3px 1px rgba(0, 0, 0, 0.15);\n",
              "      filter: drop-shadow(0px 1px 2px rgba(0, 0, 0, 0.3));\n",
              "      fill: #FFFFFF;\n",
              "    }\n",
              "  </style>\n",
              "\n",
              "      <script>\n",
              "        const buttonEl =\n",
              "          document.querySelector('#df-7b9e5ce8-e903-40c0-a3de-aef1af04804b button.colab-df-convert');\n",
              "        buttonEl.style.display =\n",
              "          google.colab.kernel.accessAllowed ? 'block' : 'none';\n",
              "\n",
              "        async function convertToInteractive(key) {\n",
              "          const element = document.querySelector('#df-7b9e5ce8-e903-40c0-a3de-aef1af04804b');\n",
              "          const dataTable =\n",
              "            await google.colab.kernel.invokeFunction('convertToInteractive',\n",
              "                                                     [key], {});\n",
              "          if (!dataTable) return;\n",
              "\n",
              "          const docLinkHtml = 'Like what you see? Visit the ' +\n",
              "            '<a target=\"_blank\" href=https://colab.research.google.com/notebooks/data_table.ipynb>data table notebook</a>'\n",
              "            + ' to learn more about interactive tables.';\n",
              "          element.innerHTML = '';\n",
              "          dataTable['output_type'] = 'display_data';\n",
              "          await google.colab.output.renderOutput(dataTable, element);\n",
              "          const docLink = document.createElement('div');\n",
              "          docLink.innerHTML = docLinkHtml;\n",
              "          element.appendChild(docLink);\n",
              "        }\n",
              "      </script>\n",
              "    </div>\n",
              "  </div>\n",
              "  "
            ]
          },
          "metadata": {},
          "execution_count": 9
        }
      ],
      "source": [
        "# Place your code here\n",
        "print('Time taken for getDfSummary function to work on the ads data frame: \\n')\n",
        "%timeit getDfSummary(ads)\n",
        "getDfSummary(ads)"
      ]
    },
    {
      "cell_type": "markdown",
      "metadata": {
        "id": "p-imGi3EbLvo"
      },
      "source": [
        ">>**4**\\. **(2 Points)** *Using the results returned from `getDfSummary()`, which fields, if any, contain missing `NaN` values?*\n",
        "\n",
        "\n"
      ]
    },
    {
      "cell_type": "code",
      "execution_count": null,
      "metadata": {
        "id": "TD9vzCZ6bLvo",
        "colab": {
          "base_uri": "https://localhost:8080/",
          "height": 81
        },
        "outputId": "3e149d36-822b-4274-d849-222e60041b73"
      },
      "outputs": [
        {
          "output_type": "execute_result",
          "data": {
            "text/plain": [
              "            number_nan  number_distinct      mean   max  min       std  25%  \\\n",
              "video_freq       52257               10  1.240653  15.0  1.0  0.782228  1.0   \n",
              "\n",
              "            50%  75%  \n",
              "video_freq  1.0  1.0  "
            ],
            "text/html": [
              "\n",
              "  <div id=\"df-c86df318-1394-43b7-98ca-978ac906ee55\">\n",
              "    <div class=\"colab-df-container\">\n",
              "      <div>\n",
              "<style scoped>\n",
              "    .dataframe tbody tr th:only-of-type {\n",
              "        vertical-align: middle;\n",
              "    }\n",
              "\n",
              "    .dataframe tbody tr th {\n",
              "        vertical-align: top;\n",
              "    }\n",
              "\n",
              "    .dataframe thead th {\n",
              "        text-align: right;\n",
              "    }\n",
              "</style>\n",
              "<table border=\"1\" class=\"dataframe\">\n",
              "  <thead>\n",
              "    <tr style=\"text-align: right;\">\n",
              "      <th></th>\n",
              "      <th>number_nan</th>\n",
              "      <th>number_distinct</th>\n",
              "      <th>mean</th>\n",
              "      <th>max</th>\n",
              "      <th>min</th>\n",
              "      <th>std</th>\n",
              "      <th>25%</th>\n",
              "      <th>50%</th>\n",
              "      <th>75%</th>\n",
              "    </tr>\n",
              "  </thead>\n",
              "  <tbody>\n",
              "    <tr>\n",
              "      <th>video_freq</th>\n",
              "      <td>52257</td>\n",
              "      <td>10</td>\n",
              "      <td>1.240653</td>\n",
              "      <td>15.0</td>\n",
              "      <td>1.0</td>\n",
              "      <td>0.782228</td>\n",
              "      <td>1.0</td>\n",
              "      <td>1.0</td>\n",
              "      <td>1.0</td>\n",
              "    </tr>\n",
              "  </tbody>\n",
              "</table>\n",
              "</div>\n",
              "      <button class=\"colab-df-convert\" onclick=\"convertToInteractive('df-c86df318-1394-43b7-98ca-978ac906ee55')\"\n",
              "              title=\"Convert this dataframe to an interactive table.\"\n",
              "              style=\"display:none;\">\n",
              "        \n",
              "  <svg xmlns=\"http://www.w3.org/2000/svg\" height=\"24px\"viewBox=\"0 0 24 24\"\n",
              "       width=\"24px\">\n",
              "    <path d=\"M0 0h24v24H0V0z\" fill=\"none\"/>\n",
              "    <path d=\"M18.56 5.44l.94 2.06.94-2.06 2.06-.94-2.06-.94-.94-2.06-.94 2.06-2.06.94zm-11 1L8.5 8.5l.94-2.06 2.06-.94-2.06-.94L8.5 2.5l-.94 2.06-2.06.94zm10 10l.94 2.06.94-2.06 2.06-.94-2.06-.94-.94-2.06-.94 2.06-2.06.94z\"/><path d=\"M17.41 7.96l-1.37-1.37c-.4-.4-.92-.59-1.43-.59-.52 0-1.04.2-1.43.59L10.3 9.45l-7.72 7.72c-.78.78-.78 2.05 0 2.83L4 21.41c.39.39.9.59 1.41.59.51 0 1.02-.2 1.41-.59l7.78-7.78 2.81-2.81c.8-.78.8-2.07 0-2.86zM5.41 20L4 18.59l7.72-7.72 1.47 1.35L5.41 20z\"/>\n",
              "  </svg>\n",
              "      </button>\n",
              "      \n",
              "  <style>\n",
              "    .colab-df-container {\n",
              "      display:flex;\n",
              "      flex-wrap:wrap;\n",
              "      gap: 12px;\n",
              "    }\n",
              "\n",
              "    .colab-df-convert {\n",
              "      background-color: #E8F0FE;\n",
              "      border: none;\n",
              "      border-radius: 50%;\n",
              "      cursor: pointer;\n",
              "      display: none;\n",
              "      fill: #1967D2;\n",
              "      height: 32px;\n",
              "      padding: 0 0 0 0;\n",
              "      width: 32px;\n",
              "    }\n",
              "\n",
              "    .colab-df-convert:hover {\n",
              "      background-color: #E2EBFA;\n",
              "      box-shadow: 0px 1px 2px rgba(60, 64, 67, 0.3), 0px 1px 3px 1px rgba(60, 64, 67, 0.15);\n",
              "      fill: #174EA6;\n",
              "    }\n",
              "\n",
              "    [theme=dark] .colab-df-convert {\n",
              "      background-color: #3B4455;\n",
              "      fill: #D2E3FC;\n",
              "    }\n",
              "\n",
              "    [theme=dark] .colab-df-convert:hover {\n",
              "      background-color: #434B5C;\n",
              "      box-shadow: 0px 1px 3px 1px rgba(0, 0, 0, 0.15);\n",
              "      filter: drop-shadow(0px 1px 2px rgba(0, 0, 0, 0.3));\n",
              "      fill: #FFFFFF;\n",
              "    }\n",
              "  </style>\n",
              "\n",
              "      <script>\n",
              "        const buttonEl =\n",
              "          document.querySelector('#df-c86df318-1394-43b7-98ca-978ac906ee55 button.colab-df-convert');\n",
              "        buttonEl.style.display =\n",
              "          google.colab.kernel.accessAllowed ? 'block' : 'none';\n",
              "\n",
              "        async function convertToInteractive(key) {\n",
              "          const element = document.querySelector('#df-c86df318-1394-43b7-98ca-978ac906ee55');\n",
              "          const dataTable =\n",
              "            await google.colab.kernel.invokeFunction('convertToInteractive',\n",
              "                                                     [key], {});\n",
              "          if (!dataTable) return;\n",
              "\n",
              "          const docLinkHtml = 'Like what you see? Visit the ' +\n",
              "            '<a target=\"_blank\" href=https://colab.research.google.com/notebooks/data_table.ipynb>data table notebook</a>'\n",
              "            + ' to learn more about interactive tables.';\n",
              "          element.innerHTML = '';\n",
              "          dataTable['output_type'] = 'display_data';\n",
              "          await google.colab.output.renderOutput(dataTable, element);\n",
              "          const docLink = document.createElement('div');\n",
              "          docLink.innerHTML = docLinkHtml;\n",
              "          element.appendChild(docLink);\n",
              "        }\n",
              "      </script>\n",
              "    </div>\n",
              "  </div>\n",
              "  "
            ]
          },
          "metadata": {},
          "execution_count": 10
        }
      ],
      "source": [
        "# Place your code here\n",
        "summary = getDfSummary(ads)\n",
        "summary[summary['number_nan'] > 0]"
      ]
    },
    {
      "cell_type": "markdown",
      "metadata": {
        "id": "Ir0uvV-gbLvo"
      },
      "source": [
        ">>**5**\\. **(4 Points)** *For the fields with missing values, does it look like the data is missing at random? Are there any other fields that correlate perfectly, or predict that the data is missing? If missing, what should the data value be?*\n",
        "\n",
        ">>**Hint:** *create another data frame that has just the records with a missing value. Get a summary of this data frame using `getDfSummary()` and compare the differences. Do some feature distributions change dramatically?*\n",
        "\n",
        ">>---\n",
        "\n"
      ]
    },
    {
      "cell_type": "markdown",
      "source": [
        "**Response**\n",
        "\n",
        "The data in *video_freq* field coorelates with two other columns *is_video_user* and *video_interval*. \n",
        "\n",
        "If is_video_user is 0, then video_freq is NaN and video_interval is also 0. \n",
        "\n",
        "If the user is not a video user, it doesn't make sense to refer to these columns but for consistency we can fill the value in *video_freq* to 0 to avoid errors when doing any modelling."
      ],
      "metadata": {
        "id": "CndW2oFHqIVO"
      }
    },
    {
      "cell_type": "code",
      "execution_count": null,
      "metadata": {
        "id": "QcQhxXxBbLvo",
        "colab": {
          "base_uri": "https://localhost:8080/",
          "height": 488
        },
        "outputId": "2569397b-ae36-42eb-b57d-408ee8df2b88"
      },
      "outputs": [
        {
          "output_type": "execute_result",
          "data": {
            "text/plain": [
              "                     number_nan  number_distinct        mean          max  \\\n",
              "is_video_user                 0                1    0.000000      0.00000   \n",
              "video_freq                52257                0         NaN          NaN   \n",
              "call_freq                     0               48    1.651549     84.00000   \n",
              "video_interval                0                1    0.000000      0.00000   \n",
              "call_interval                 0             5112    5.686388    184.91670   \n",
              "expected_video_time           0                1    0.000000      0.00000   \n",
              "expected_call_time            0            13351   -9.669298     91.40192   \n",
              "last_bill                     0              189   65.741317    188.00000   \n",
              "next_bill                     0              189   65.741317    188.00000   \n",
              "multiple_video                0                1    0.000000      0.00000   \n",
              "multiple_carrier              0                2    0.255602      1.00000   \n",
              "uniq_urls                     0              207   86.656180    206.00000   \n",
              "num_texts                     0             4570  721.848518  37091.00000   \n",
              "is_churn                      0                2    0.003024      1.00000   \n",
              "\n",
              "                          min          std    25%    50%         75%  \n",
              "is_video_user          0.0000     0.000000    0.0    0.0    0.000000  \n",
              "video_freq                NaN          NaN    NaN    NaN         NaN  \n",
              "call_freq              1.0000     2.147955    1.0    1.0    2.000000  \n",
              "video_interval         0.0000     0.000000    0.0    0.0    0.000000  \n",
              "call_interval          0.0000    17.623555    0.0    0.0    0.041667  \n",
              "expected_video_time    0.0000     0.000000    0.0    0.0    0.000000  \n",
              "expected_call_time  -187.6156    31.239030    0.0    0.0    0.000000  \n",
              "last_bill              0.0000    53.484622   19.0   52.0  106.000000  \n",
              "next_bill              0.0000    53.484622   19.0   52.0  106.000000  \n",
              "multiple_video         0.0000     0.000000    0.0    0.0    0.000000  \n",
              "multiple_carrier       0.0000     0.436203    0.0    0.0    1.000000  \n",
              "uniq_urls             -1.0000    61.996711   30.0   75.0  155.000000  \n",
              "num_texts              1.0000  1284.504018  126.0  318.0  803.000000  \n",
              "is_churn               0.0000     0.054904    0.0    0.0    0.000000  "
            ],
            "text/html": [
              "\n",
              "  <div id=\"df-de74d704-f0c2-4ed8-8573-60efe34b5896\">\n",
              "    <div class=\"colab-df-container\">\n",
              "      <div>\n",
              "<style scoped>\n",
              "    .dataframe tbody tr th:only-of-type {\n",
              "        vertical-align: middle;\n",
              "    }\n",
              "\n",
              "    .dataframe tbody tr th {\n",
              "        vertical-align: top;\n",
              "    }\n",
              "\n",
              "    .dataframe thead th {\n",
              "        text-align: right;\n",
              "    }\n",
              "</style>\n",
              "<table border=\"1\" class=\"dataframe\">\n",
              "  <thead>\n",
              "    <tr style=\"text-align: right;\">\n",
              "      <th></th>\n",
              "      <th>number_nan</th>\n",
              "      <th>number_distinct</th>\n",
              "      <th>mean</th>\n",
              "      <th>max</th>\n",
              "      <th>min</th>\n",
              "      <th>std</th>\n",
              "      <th>25%</th>\n",
              "      <th>50%</th>\n",
              "      <th>75%</th>\n",
              "    </tr>\n",
              "  </thead>\n",
              "  <tbody>\n",
              "    <tr>\n",
              "      <th>is_video_user</th>\n",
              "      <td>0</td>\n",
              "      <td>1</td>\n",
              "      <td>0.000000</td>\n",
              "      <td>0.00000</td>\n",
              "      <td>0.0000</td>\n",
              "      <td>0.000000</td>\n",
              "      <td>0.0</td>\n",
              "      <td>0.0</td>\n",
              "      <td>0.000000</td>\n",
              "    </tr>\n",
              "    <tr>\n",
              "      <th>video_freq</th>\n",
              "      <td>52257</td>\n",
              "      <td>0</td>\n",
              "      <td>NaN</td>\n",
              "      <td>NaN</td>\n",
              "      <td>NaN</td>\n",
              "      <td>NaN</td>\n",
              "      <td>NaN</td>\n",
              "      <td>NaN</td>\n",
              "      <td>NaN</td>\n",
              "    </tr>\n",
              "    <tr>\n",
              "      <th>call_freq</th>\n",
              "      <td>0</td>\n",
              "      <td>48</td>\n",
              "      <td>1.651549</td>\n",
              "      <td>84.00000</td>\n",
              "      <td>1.0000</td>\n",
              "      <td>2.147955</td>\n",
              "      <td>1.0</td>\n",
              "      <td>1.0</td>\n",
              "      <td>2.000000</td>\n",
              "    </tr>\n",
              "    <tr>\n",
              "      <th>video_interval</th>\n",
              "      <td>0</td>\n",
              "      <td>1</td>\n",
              "      <td>0.000000</td>\n",
              "      <td>0.00000</td>\n",
              "      <td>0.0000</td>\n",
              "      <td>0.000000</td>\n",
              "      <td>0.0</td>\n",
              "      <td>0.0</td>\n",
              "      <td>0.000000</td>\n",
              "    </tr>\n",
              "    <tr>\n",
              "      <th>call_interval</th>\n",
              "      <td>0</td>\n",
              "      <td>5112</td>\n",
              "      <td>5.686388</td>\n",
              "      <td>184.91670</td>\n",
              "      <td>0.0000</td>\n",
              "      <td>17.623555</td>\n",
              "      <td>0.0</td>\n",
              "      <td>0.0</td>\n",
              "      <td>0.041667</td>\n",
              "    </tr>\n",
              "    <tr>\n",
              "      <th>expected_video_time</th>\n",
              "      <td>0</td>\n",
              "      <td>1</td>\n",
              "      <td>0.000000</td>\n",
              "      <td>0.00000</td>\n",
              "      <td>0.0000</td>\n",
              "      <td>0.000000</td>\n",
              "      <td>0.0</td>\n",
              "      <td>0.0</td>\n",
              "      <td>0.000000</td>\n",
              "    </tr>\n",
              "    <tr>\n",
              "      <th>expected_call_time</th>\n",
              "      <td>0</td>\n",
              "      <td>13351</td>\n",
              "      <td>-9.669298</td>\n",
              "      <td>91.40192</td>\n",
              "      <td>-187.6156</td>\n",
              "      <td>31.239030</td>\n",
              "      <td>0.0</td>\n",
              "      <td>0.0</td>\n",
              "      <td>0.000000</td>\n",
              "    </tr>\n",
              "    <tr>\n",
              "      <th>last_bill</th>\n",
              "      <td>0</td>\n",
              "      <td>189</td>\n",
              "      <td>65.741317</td>\n",
              "      <td>188.00000</td>\n",
              "      <td>0.0000</td>\n",
              "      <td>53.484622</td>\n",
              "      <td>19.0</td>\n",
              "      <td>52.0</td>\n",
              "      <td>106.000000</td>\n",
              "    </tr>\n",
              "    <tr>\n",
              "      <th>next_bill</th>\n",
              "      <td>0</td>\n",
              "      <td>189</td>\n",
              "      <td>65.741317</td>\n",
              "      <td>188.00000</td>\n",
              "      <td>0.0000</td>\n",
              "      <td>53.484622</td>\n",
              "      <td>19.0</td>\n",
              "      <td>52.0</td>\n",
              "      <td>106.000000</td>\n",
              "    </tr>\n",
              "    <tr>\n",
              "      <th>multiple_video</th>\n",
              "      <td>0</td>\n",
              "      <td>1</td>\n",
              "      <td>0.000000</td>\n",
              "      <td>0.00000</td>\n",
              "      <td>0.0000</td>\n",
              "      <td>0.000000</td>\n",
              "      <td>0.0</td>\n",
              "      <td>0.0</td>\n",
              "      <td>0.000000</td>\n",
              "    </tr>\n",
              "    <tr>\n",
              "      <th>multiple_carrier</th>\n",
              "      <td>0</td>\n",
              "      <td>2</td>\n",
              "      <td>0.255602</td>\n",
              "      <td>1.00000</td>\n",
              "      <td>0.0000</td>\n",
              "      <td>0.436203</td>\n",
              "      <td>0.0</td>\n",
              "      <td>0.0</td>\n",
              "      <td>1.000000</td>\n",
              "    </tr>\n",
              "    <tr>\n",
              "      <th>uniq_urls</th>\n",
              "      <td>0</td>\n",
              "      <td>207</td>\n",
              "      <td>86.656180</td>\n",
              "      <td>206.00000</td>\n",
              "      <td>-1.0000</td>\n",
              "      <td>61.996711</td>\n",
              "      <td>30.0</td>\n",
              "      <td>75.0</td>\n",
              "      <td>155.000000</td>\n",
              "    </tr>\n",
              "    <tr>\n",
              "      <th>num_texts</th>\n",
              "      <td>0</td>\n",
              "      <td>4570</td>\n",
              "      <td>721.848518</td>\n",
              "      <td>37091.00000</td>\n",
              "      <td>1.0000</td>\n",
              "      <td>1284.504018</td>\n",
              "      <td>126.0</td>\n",
              "      <td>318.0</td>\n",
              "      <td>803.000000</td>\n",
              "    </tr>\n",
              "    <tr>\n",
              "      <th>is_churn</th>\n",
              "      <td>0</td>\n",
              "      <td>2</td>\n",
              "      <td>0.003024</td>\n",
              "      <td>1.00000</td>\n",
              "      <td>0.0000</td>\n",
              "      <td>0.054904</td>\n",
              "      <td>0.0</td>\n",
              "      <td>0.0</td>\n",
              "      <td>0.000000</td>\n",
              "    </tr>\n",
              "  </tbody>\n",
              "</table>\n",
              "</div>\n",
              "      <button class=\"colab-df-convert\" onclick=\"convertToInteractive('df-de74d704-f0c2-4ed8-8573-60efe34b5896')\"\n",
              "              title=\"Convert this dataframe to an interactive table.\"\n",
              "              style=\"display:none;\">\n",
              "        \n",
              "  <svg xmlns=\"http://www.w3.org/2000/svg\" height=\"24px\"viewBox=\"0 0 24 24\"\n",
              "       width=\"24px\">\n",
              "    <path d=\"M0 0h24v24H0V0z\" fill=\"none\"/>\n",
              "    <path d=\"M18.56 5.44l.94 2.06.94-2.06 2.06-.94-2.06-.94-.94-2.06-.94 2.06-2.06.94zm-11 1L8.5 8.5l.94-2.06 2.06-.94-2.06-.94L8.5 2.5l-.94 2.06-2.06.94zm10 10l.94 2.06.94-2.06 2.06-.94-2.06-.94-.94-2.06-.94 2.06-2.06.94z\"/><path d=\"M17.41 7.96l-1.37-1.37c-.4-.4-.92-.59-1.43-.59-.52 0-1.04.2-1.43.59L10.3 9.45l-7.72 7.72c-.78.78-.78 2.05 0 2.83L4 21.41c.39.39.9.59 1.41.59.51 0 1.02-.2 1.41-.59l7.78-7.78 2.81-2.81c.8-.78.8-2.07 0-2.86zM5.41 20L4 18.59l7.72-7.72 1.47 1.35L5.41 20z\"/>\n",
              "  </svg>\n",
              "      </button>\n",
              "      \n",
              "  <style>\n",
              "    .colab-df-container {\n",
              "      display:flex;\n",
              "      flex-wrap:wrap;\n",
              "      gap: 12px;\n",
              "    }\n",
              "\n",
              "    .colab-df-convert {\n",
              "      background-color: #E8F0FE;\n",
              "      border: none;\n",
              "      border-radius: 50%;\n",
              "      cursor: pointer;\n",
              "      display: none;\n",
              "      fill: #1967D2;\n",
              "      height: 32px;\n",
              "      padding: 0 0 0 0;\n",
              "      width: 32px;\n",
              "    }\n",
              "\n",
              "    .colab-df-convert:hover {\n",
              "      background-color: #E2EBFA;\n",
              "      box-shadow: 0px 1px 2px rgba(60, 64, 67, 0.3), 0px 1px 3px 1px rgba(60, 64, 67, 0.15);\n",
              "      fill: #174EA6;\n",
              "    }\n",
              "\n",
              "    [theme=dark] .colab-df-convert {\n",
              "      background-color: #3B4455;\n",
              "      fill: #D2E3FC;\n",
              "    }\n",
              "\n",
              "    [theme=dark] .colab-df-convert:hover {\n",
              "      background-color: #434B5C;\n",
              "      box-shadow: 0px 1px 3px 1px rgba(0, 0, 0, 0.15);\n",
              "      filter: drop-shadow(0px 1px 2px rgba(0, 0, 0, 0.3));\n",
              "      fill: #FFFFFF;\n",
              "    }\n",
              "  </style>\n",
              "\n",
              "      <script>\n",
              "        const buttonEl =\n",
              "          document.querySelector('#df-de74d704-f0c2-4ed8-8573-60efe34b5896 button.colab-df-convert');\n",
              "        buttonEl.style.display =\n",
              "          google.colab.kernel.accessAllowed ? 'block' : 'none';\n",
              "\n",
              "        async function convertToInteractive(key) {\n",
              "          const element = document.querySelector('#df-de74d704-f0c2-4ed8-8573-60efe34b5896');\n",
              "          const dataTable =\n",
              "            await google.colab.kernel.invokeFunction('convertToInteractive',\n",
              "                                                     [key], {});\n",
              "          if (!dataTable) return;\n",
              "\n",
              "          const docLinkHtml = 'Like what you see? Visit the ' +\n",
              "            '<a target=\"_blank\" href=https://colab.research.google.com/notebooks/data_table.ipynb>data table notebook</a>'\n",
              "            + ' to learn more about interactive tables.';\n",
              "          element.innerHTML = '';\n",
              "          dataTable['output_type'] = 'display_data';\n",
              "          await google.colab.output.renderOutput(dataTable, element);\n",
              "          const docLink = document.createElement('div');\n",
              "          docLink.innerHTML = docLinkHtml;\n",
              "          element.appendChild(docLink);\n",
              "        }\n",
              "      </script>\n",
              "    </div>\n",
              "  </div>\n",
              "  "
            ]
          },
          "metadata": {},
          "execution_count": 11
        }
      ],
      "source": [
        "# Place your code and response here\n",
        "adsWithNanOnly = ads[ads['video_freq'].isna()]\n",
        "summaryWithNaN = getDfSummary(adsWithNanOnly)\n",
        "summaryWithNaN"
      ]
    },
    {
      "cell_type": "markdown",
      "metadata": {
        "id": "yc1BQexKbLvo"
      },
      "source": [
        ">>**6**\\. (**2 Points)** *Which variables are binary?*\n",
        "\n",
        "\n"
      ]
    },
    {
      "cell_type": "code",
      "execution_count": null,
      "metadata": {
        "id": "r9TsiNgZbLvp",
        "colab": {
          "base_uri": "https://localhost:8080/"
        },
        "outputId": "6e216687-859e-4a5a-fa18-41fb07fa7b7e"
      },
      "outputs": [
        {
          "output_type": "stream",
          "name": "stdout",
          "text": [
            "Binary variables are as follows: \n",
            "\n",
            "is_video_user\n",
            "multiple_video\n",
            "multiple_carrier\n",
            "is_churn\n"
          ]
        }
      ],
      "source": [
        "# Place your code here\n",
        "def checkBinary(col):\n",
        "  col.dropna(inplace=True)\n",
        "  return sorted(col.unique()) == [0,1]\n",
        "\n",
        "print('Binary variables are as follows: \\n')\n",
        "for col in ads.columns:\n",
        "  if checkBinary(ads[col]):\n",
        "    print(col)"
      ]
    },
    {
      "cell_type": "markdown",
      "metadata": {
        "id": "ufgrdnbUbLvp"
      },
      "source": [
        ">>**7**\\. **(0.5 Point)** *Let's take a deeper look into one of the features, the `num_texts`, which stands for the number of text messages. Let's try and understand the distribution of this field. We can do this using the hist() method and matplotlib. Draw a histogram graph of `num_texts` from the dataframe `ads`, set the title of the graph as `'Histogram of Number of Texts'`.*"
      ]
    },
    {
      "cell_type": "code",
      "execution_count": null,
      "metadata": {
        "id": "eAylkv_KbLvp",
        "colab": {
          "base_uri": "https://localhost:8080/",
          "height": 281
        },
        "outputId": "3e60eb2b-ea4e-44c8-ae32-d8f33b843823"
      },
      "outputs": [
        {
          "output_type": "display_data",
          "data": {
            "text/plain": [
              "<Figure size 432x288 with 1 Axes>"
            ],
            "image/png": "[encoded data removed]"
          },
          "metadata": {
            "needs_background": "light"
          }
        }
      ],
      "source": [
        "# Place your code here\n",
        "plt.hist(ads['num_texts'], bins=350)\n",
        "plt.title('Histogram of Number of Texts')\n",
        "plt.show()"
      ]
    },
    {
      "cell_type": "markdown",
      "metadata": {
        "id": "1HATKInIbLvp"
      },
      "source": [
        ">>**8**\\. **(1.5 Point)** *How would you characterize the shape of this distribution? Is there anything we can do to the texts variable to make the distribution more bell curved?*\n",
        "\n",
        ">>**Hint:** *Let's create a new column in the dataframe called `'log_num_texts'` and print a histogram `'Histogram of Log(Num Texts)'` of it. What might be some advantages of making such a transformation?*"
      ]
    },
    {
      "cell_type": "markdown",
      "source": [
        "**Response**\n",
        "\n",
        "The distribution for this feature is right skewed with 75% of values less than 800. Since the values of the feature are skewed, depending on the model, skewness may violate model assumptions (e.g. logistic regression) or may impair the interpretation of feature importance when training a Machine Learning model using this data.\n",
        "\n",
        "Whereas Log(num_texts) is more Normally Distributed and hence making this transformation will help have more consistent results when traning a model or making any inference using this feature."
      ],
      "metadata": {
        "id": "yxMZ5wj1g8d9"
      }
    },
    {
      "cell_type": "code",
      "execution_count": null,
      "metadata": {
        "id": "M44w3jNLbLvp",
        "colab": {
          "base_uri": "https://localhost:8080/",
          "height": 281
        },
        "outputId": "614ad52f-c74c-48b3-8792-30f5d137be23"
      },
      "outputs": [
        {
          "output_type": "display_data",
          "data": {
            "text/plain": [
              "<Figure size 432x288 with 1 Axes>"
            ],
            "image/png": "[encoded data removed]"
          },
          "metadata": {
            "needs_background": "light"
          }
        }
      ],
      "source": [
        "# Place your code and response here\n",
        "ads['log_num_texts'] = np.log2(ads['num_texts'])\n",
        "plt.hist(ads['log_num_texts'], bins=350)\n",
        "plt.title('Histogram of Log(Num Texts)')\n",
        "plt.show()"
      ]
    },
    {
      "cell_type": "markdown",
      "metadata": {
        "id": "PF884TNzbLvp"
      },
      "source": [
        "##  **End of Homework 0**"
      ]
    }
  ],
  "metadata": {
    "anaconda-cloud": {},
    "kernelspec": {
      "display_name": "Python 3",
      "language": "python",
      "name": "python3"
    },
    "language_info": {
      "codemirror_mode": {
        "name": "ipython",
        "version": 3
      },
      "file_extension": ".py",
      "mimetype": "text/x-python",
      "name": "python",
      "nbconvert_exporter": "python",
      "pygments_lexer": "ipython3",
      "version": "3.8.5"
    },
    "colab": {
      "provenance": []
    }
  },
  "nbformat": 4,
  "nbformat_minor": 0
}